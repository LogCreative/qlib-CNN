{
 "cells": [
  {
   "cell_type": "code",
   "execution_count": null,
   "metadata": {},
   "outputs": [],
   "source": [
    "!python ../qlib/scripts/get_data.py qlib_data --target_dir H:/qlib-CNN/data/cn_data --region cn"
   ]
  },
  {
   "cell_type": "code",
   "execution_count": 1,
   "metadata": {},
   "outputs": [
    {
     "name": "stderr",
     "output_type": "stream",
     "text": [
      "[2416:MainThread](2021-12-13 11:25:03,667) INFO - qlib.Initialization - [config.py:386] - default_conf: client.\n",
      "[2416:MainThread](2021-12-13 11:25:05,671) WARNING - qlib.Initialization - [config.py:411] - redis connection failed(host=127.0.0.1 port=6379), DiskExpressionCache and DiskDatasetCache will not be used!\n",
      "[2416:MainThread](2021-12-13 11:25:06,117) INFO - qlib.Initialization - [__init__.py:56] - qlib successfully initialized based on client settings.\n",
      "[2416:MainThread](2021-12-13 11:25:06,118) INFO - qlib.Initialization - [__init__.py:58] - data_path={'__DEFAULT_FREQ': WindowsPath('C:/Users/lizil_5truwnu/.qlib/qlib_data/cn_data')}\n"
     ]
    },
    {
     "data": {
      "text/plain": [
       "['SH600000',\n",
       " 'SH600009',\n",
       " 'SH600010',\n",
       " 'SH600011',\n",
       " 'SH600015',\n",
       " 'SH600016',\n",
       " 'SH600018',\n",
       " 'SH600019',\n",
       " 'SH600028',\n",
       " 'SH600029',\n",
       " 'SH600030',\n",
       " 'SH600031',\n",
       " 'SH600036',\n",
       " 'SH600048',\n",
       " 'SH600050',\n",
       " 'SH600061',\n",
       " 'SH600079',\n",
       " 'SH600085',\n",
       " 'SH600104',\n",
       " 'SH600109']"
      ]
     },
     "execution_count": 1,
     "metadata": {},
     "output_type": "execute_result"
    }
   ],
   "source": [
    "import qlib\n",
    "from qlib.data import D\n",
    "qlib.init(provider_uri='~/.qlib/qlib_data/cn_data')\n",
    "instruments = D.instruments(market='csi300')\n",
    "D.list_instruments(instruments=instruments, start_time='2010-01-01', end_time='2017-12-31', as_list=True)[:20]"
   ]
  }
 ],
 "metadata": {
  "interpreter": {
   "hash": "1baa965d5efe3ac65b79dfc60c0d706280b1da80fedb7760faf2759126c4f253"
  },
  "kernelspec": {
   "display_name": "Python 3.8.5 64-bit",
   "language": "python",
   "name": "python3"
  },
  "language_info": {
   "codemirror_mode": {
    "name": "ipython",
    "version": 3
   },
   "file_extension": ".py",
   "mimetype": "text/x-python",
   "name": "python",
   "nbconvert_exporter": "python",
   "pygments_lexer": "ipython3",
   "version": "3.8.5"
  },
  "orig_nbformat": 4
 },
 "nbformat": 4,
 "nbformat_minor": 2
}
